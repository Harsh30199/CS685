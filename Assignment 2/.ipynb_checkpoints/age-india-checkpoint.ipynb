{
 "cells": [
  {
   "cell_type": "code",
   "execution_count": 1,
   "id": "4648321a",
   "metadata": {},
   "outputs": [],
   "source": [
    "import pandas as pd\n",
    "import numpy as np"
   ]
  },
  {
   "cell_type": "code",
   "execution_count": 13,
   "id": "87163600",
   "metadata": {},
   "outputs": [
    {
     "name": "stdout",
     "output_type": "stream",
     "text": [
      "State Code            0\n",
      "State Name        INDIA\n",
      "Age Group           0-4\n",
      "TOT_P         112806778\n",
      "TOT_M          58632074\n",
      "TOT_F          54174704\n",
      "R_P            82986660\n",
      "R_M            43036377\n",
      "R_F            39950283\n",
      "U_P            29820118\n",
      "U_M            15595697\n",
      "U_F            14224421\n",
      "Name: 1, dtype: object\n"
     ]
    },
    {
     "ename": "AttributeError",
     "evalue": "__delitem__",
     "output_type": "error",
     "traceback": [
      "\u001b[1;31m---------------------------------------------------------------------------\u001b[0m",
      "\u001b[1;31mAttributeError\u001b[0m                            Traceback (most recent call last)",
      "\u001b[1;32m<ipython-input-13-08492dc9653b>\u001b[0m in \u001b[0;36m<module>\u001b[1;34m\u001b[0m\n\u001b[0;32m     15\u001b[0m    \u001b[1;31m## df1.iloc[0] = df1.iloc[0][3:] - df1.iloc[1][3:]\u001b[0m\u001b[1;33m\u001b[0m\u001b[1;33m\u001b[0m\u001b[1;33m\u001b[0m\u001b[0m\n\u001b[0;32m     16\u001b[0m     \u001b[0mprint\u001b[0m\u001b[1;33m(\u001b[0m\u001b[0mdf\u001b[0m\u001b[1;33m.\u001b[0m\u001b[0miloc\u001b[0m\u001b[1;33m[\u001b[0m\u001b[1;36m1\u001b[0m\u001b[1;33m]\u001b[0m\u001b[1;33m)\u001b[0m\u001b[1;33m\u001b[0m\u001b[1;33m\u001b[0m\u001b[0m\n\u001b[1;32m---> 17\u001b[1;33m     \u001b[1;32mdel\u001b[0m \u001b[0mdf1\u001b[0m\u001b[1;33m.\u001b[0m\u001b[0miloc\u001b[0m\u001b[1;33m[\u001b[0m\u001b[1;36m1\u001b[0m\u001b[1;33m]\u001b[0m\u001b[1;33m\u001b[0m\u001b[1;33m\u001b[0m\u001b[0m\n\u001b[0m",
      "\u001b[1;31mAttributeError\u001b[0m: __delitem__"
     ]
    }
   ],
   "source": [
    "df = pd.read_csv('Datasets Original/Agewise Census.csv')\n",
    "\n",
    "data = {}\n",
    "\n",
    "age1 = ['']\n",
    "\n",
    "for i in df['State Code']:\n",
    "    \n",
    "    ##data['State Code'] = i \n",
    "    ##data['State Name'] = df[df['State Code'] == i ]['State Name'].iloc[0]\n",
    "    ##data['Total'] = df[df['State Code'] == i ]['State Name'].iloc[0]\n",
    "    \n",
    "    df1 = df[df['State Code'] == i]\n",
    "    \n",
    "    df1.iloc[0] = df1.iloc[0][3:] - df1.iloc[1][3:]\n",
    "    print(df.iloc[0])\n",
    "    del df1.iloc[1]"
   ]
  }
 ],
 "metadata": {
  "kernelspec": {
   "display_name": "Python 3",
   "language": "python",
   "name": "python3"
  },
  "language_info": {
   "codemirror_mode": {
    "name": "ipython",
    "version": 3
   },
   "file_extension": ".py",
   "mimetype": "text/x-python",
   "name": "python",
   "nbconvert_exporter": "python",
   "pygments_lexer": "ipython3",
   "version": "3.8.8"
  }
 },
 "nbformat": 4,
 "nbformat_minor": 5
}
