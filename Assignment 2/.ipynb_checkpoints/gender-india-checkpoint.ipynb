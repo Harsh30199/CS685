{
 "cells": [
  {
   "cell_type": "code",
   "execution_count": 1,
   "id": "6382cf85",
   "metadata": {},
   "outputs": [],
   "source": [
    "import pandas as pd\n",
    "import numpy as np\n",
    "from statsmodels.stats.proportion import proportions_ztest\n",
    "import scipy.stats"
   ]
  },
  {
   "cell_type": "code",
   "execution_count": 2,
   "id": "f52216b6",
   "metadata": {},
   "outputs": [],
   "source": [
    "df = pd.read_csv('Census2.csv')\n",
    "\n",
    "df1 = pd.read_csv('Bi and Tri Age2.csv')\n",
    "df1 = df1[df1['Type']=='Total']\n",
    "df1 = df1[df1['Age Group']=='Total']\n"
   ]
  },
  {
   "cell_type": "code",
   "execution_count": 3,
   "id": "e9726b9c",
   "metadata": {},
   "outputs": [],
   "source": [
    "data ={}\n",
    "df3 = pd.DataFrame()\n",
    "for i in df['State Code'] :\n",
    "    data['State Code'] = i     \n",
    "    data['male-percentage'] = np.round((df1[df1['State Code']== i]['Three Male'].iloc[0]/df[df['State Code'] == i]['TOT_M'].iloc[0])*100,4)\n",
    "    data['female-percentage'] = np.round((df1[df1['State Code']== i]['Three Female'].iloc[0] / df[df['State Code'] == i]['TOT_F'].iloc[0])*100,4)\n",
    "    stat, pval = proportions_ztest(count = np.abs(data['male-percentage']-data['female-percentage']), nobs = max(data['male-percentage'],data['female-percentage']),value = 0)\n",
    "    data['p-value'] = np.round(pval,4)\n",
    "    ##print(pval)\n",
    "    df3 = df3.append(data,ignore_index=True)\n",
    "\n",
    "df3 = df3[['State Code', 'male-percentage' , 'female-percentage' , 'p-value']]\n",
    "df3.to_csv('gender-india.csv',index=False)"
   ]
  },
  {
   "cell_type": "code",
   "execution_count": 8,
   "id": "6e69fbf2",
   "metadata": {},
   "outputs": [],
   "source": [
    "data ={}\n",
    "df3 = pd.DataFrame()\n",
    "for i in df['State Code'] :\n",
    "    data['State Code'] = i     \n",
    "    data['male-percentage'] = np.round((df1[df1['State Code']== i]['Three Male'].iloc[0]/df[df['State Code'] == i]['TOT_M'].iloc[0])*100,4)\n",
    "    data['female-percentage'] = np.round((df1[df1['State Code']== i]['Three Female'].iloc[0] / df[df['State Code'] == i]['TOT_F'].iloc[0])*100,4)\n",
    "    stat, pval = proportions_ztest(count = np.abs(data['male-percentage']-data['female-percentage']), nobs =min(data['male-percentage'],data['female-percentage']),value = 0)\n",
    "    data['p-value'] = np.round(pval,4)\n",
    "    ##print(pval)\n",
    "    df3 = df3.append(data,ignore_index=True)\n",
    "    \n",
    "df3 = df3[['State Code', 'male-percentage' , 'female-percentage' , 'p-value']]\n",
    "df3.to_csv('gender-india2.csv',index=False)"
   ]
  }
 ],
 "metadata": {
  "kernelspec": {
   "display_name": "Python 3",
   "language": "python",
   "name": "python3"
  },
  "language_info": {
   "codemirror_mode": {
    "name": "ipython",
    "version": 3
   },
   "file_extension": ".py",
   "mimetype": "text/x-python",
   "name": "python",
   "nbconvert_exporter": "python",
   "pygments_lexer": "ipython3",
   "version": "3.8.8"
  }
 },
 "nbformat": 4,
 "nbformat_minor": 5
}
