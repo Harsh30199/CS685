{
 "cells": [
  {
   "cell_type": "code",
   "execution_count": 1,
   "id": "6382cf85",
   "metadata": {},
   "outputs": [],
   "source": [
    "import pandas as pd\n",
    "import numpy as np\n",
    "from statsmodels.stats.proportion import proportions_ztest"
   ]
  },
  {
   "cell_type": "code",
   "execution_count": 2,
   "id": "f52216b6",
   "metadata": {},
   "outputs": [],
   "source": [
    "df = pd.read_csv('Census3.csv')\n",
    "df1 = df[df['TRU']=='Rural']\n",
    "df2 = df[df['TRU']=='Urban']\n",
    "\n",
    "df3 = pd.read_csv('Bi and Tri Age2.csv')\n",
    "df4 = df3[df3['Type']=='Rural']\n",
    "df4 = df4[df4['Age Group']=='Total']\n",
    "\n",
    "df5 = df3[df3['Type']=='Urban']\n",
    "df5 = df5[df5['Age Group']=='Total']\n"
   ]
  },
  {
   "cell_type": "code",
   "execution_count": 5,
   "id": "e9726b9c",
   "metadata": {},
   "outputs": [],
   "source": [
    "data ={}\n",
    "df3 = pd.DataFrame()\n",
    "for i in df1['State Code'] :\n",
    "    data['State Code'] = i     \n",
    "    data['urban-percentage'] = np.round((df5[df5['State Code']== i]['Three Total'].iloc[0]/df2[df2['State Code'] == i]['TOT_P'].iloc[0])*100,4)\n",
    "    data['rural-percentage'] = np.round((df4[df4['State Code']== i]['Three Total'].iloc[0] / df1[df1['State Code'] == i]['TOT_P'].iloc[0])*100,4)\n",
    "    stat, pval = proportions_ztest(count = np.abs(data['urban-percentage']-data['rural-percentage']), nobs = max(data['urban-percentage'],data['rural-percentage']),value = 0)\n",
    "    data['p-value'] = pval\n",
    "    ##print(pval)\n",
    "    df3 = df3.append(data,ignore_index=True)\n",
    "\n",
    "df3 = df3[['State Code', 'urban-percentage' , 'rural-percentage' , 'p-value']]\n",
    "df3.to_csv('geography-india.csv',index=False)"
   ]
  }
 ],
 "metadata": {
  "kernelspec": {
   "display_name": "Python 3",
   "language": "python",
   "name": "python3"
  },
  "language_info": {
   "codemirror_mode": {
    "name": "ipython",
    "version": 3
   },
   "file_extension": ".py",
   "mimetype": "text/x-python",
   "name": "python",
   "nbconvert_exporter": "python",
   "pygments_lexer": "ipython3",
   "version": "3.8.8"
  }
 },
 "nbformat": 4,
 "nbformat_minor": 5
}
