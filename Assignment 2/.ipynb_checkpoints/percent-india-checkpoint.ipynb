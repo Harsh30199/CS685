{
 "cells": [
  {
   "cell_type": "code",
   "execution_count": 1,
   "id": "6f3430ea",
   "metadata": {},
   "outputs": [],
   "source": [
    "import pandas as pd\n",
    "import numpy as np"
   ]
  },
  {
   "cell_type": "code",
   "execution_count": 2,
   "id": "76ad8594",
   "metadata": {},
   "outputs": [],
   "source": [
    "df = pd.read_csv('Census2.csv')\n",
    "\n",
    "df1 = pd.read_csv('Mono Gender.csv')\n",
    "\n",
    "df2 = pd.read_csv('Bi and Tri Age2.csv')"
   ]
  },
  {
   "cell_type": "code",
   "execution_count": 3,
   "id": "63038d9b",
   "metadata": {},
   "outputs": [],
   "source": [
    "data ={}\n",
    "df3 = pd.DataFrame()\n",
    "for i in df['State Code'] :\n",
    "    data['State Code'] = i \n",
    "    \n",
    "    data['One Percent'] = (df1[df1['State Code']== i]['One Total'].iloc[0] / df[df['State Code'] == i]['TOT_P'].iloc[0])*100\n",
    "    data['Two Percent'] = (df2[df2['State Code']== i]['Two Total'].iloc[0] / df[df['State Code'] == i]['TOT_P'].iloc[0])*100\n",
    "    data['Three Percent'] = (df2[df2['State Code']== i]['Three Total'].iloc[0] / df[df['State Code'] == i]['TOT_P'].iloc[0])*100\n",
    "\n",
    "    df3 = df3.append(data,ignore_index=True)\n",
    "\n",
    "df3 = df3[['State Code', 'One Percent' , 'Two Percent' , 'Three Percent']]\n",
    "df3.to_csv('percent-india.csv',index=False)"
   ]
  }
 ],
 "metadata": {
  "kernelspec": {
   "display_name": "Python 3",
   "language": "python",
   "name": "python3"
  },
  "language_info": {
   "codemirror_mode": {
    "name": "ipython",
    "version": 3
   },
   "file_extension": ".py",
   "mimetype": "text/x-python",
   "name": "python",
   "nbconvert_exporter": "python",
   "pygments_lexer": "ipython3",
   "version": "3.8.8"
  }
 },
 "nbformat": 4,
 "nbformat_minor": 5
}
