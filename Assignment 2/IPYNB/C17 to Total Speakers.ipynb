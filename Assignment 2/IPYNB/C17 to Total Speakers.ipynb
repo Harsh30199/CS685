{
 "cells": [
  {
   "cell_type": "code",
   "execution_count": 1,
   "id": "3a9b16c4",
   "metadata": {},
   "outputs": [],
   "source": [
    "import pandas as pd\n",
    "import numpy as np"
   ]
  },
  {
   "cell_type": "code",
   "execution_count": 2,
   "id": "e5f043db",
   "metadata": {},
   "outputs": [],
   "source": [
    "df = pd.DataFrame()\n",
    "cols = {'1':'State Code','2':'State Name','4':'Language','5':'Total'}\n",
    "\n",
    "\n",
    "for i in range(0,10):\n",
    "    temp1 = pd.read_excel('../Datasets Original/C17/DDW-C17-0'+str(i)+'00.XLSX',sheet_name = 'Sheet1', header = 4 , usecols = [0,1,3,4] )\n",
    "    temp1.rename(columns = {i : str(i) for i in [1,2,4,5]},inplace=True)\n",
    "    temp1.dropna(axis='rows',inplace=True)\n",
    "    \n",
    "    temp2 = pd.read_excel('../Datasets Original/C17/DDW-C17-0'+str(i)+'00.XLSX',sheet_name = 'Sheet1', header = 4 , usecols = [0,1,8,9] )\n",
    "    temp2.rename(columns = {i : str(i) for i in [1,2]},inplace=True)\n",
    "    temp2.rename(columns = {i : str(int(i)-5) for i in [9,10,'9','10']},inplace=True)\n",
    "    \n",
    "    temp2.dropna(axis='rows',inplace=True)\n",
    "    \n",
    "    temp3 = pd.read_excel('../Datasets Original/C17/DDW-C17-0'+str(i)+'00.XLSX',sheet_name = 'Sheet1', header = 4 , usecols = [0,1,13,14] )\n",
    "    temp3.rename(columns = {i : str(i) for i in [1,2]},inplace=True)\n",
    "    temp3.rename(columns = {i : str(int(i)-10) for i in [14,15,'14','15']},inplace=True)\n",
    "   \n",
    "    temp3.dropna(axis='rows',inplace=True)\n",
    "    \n",
    "    df = pd.concat([df,temp1,temp2,temp3],ignore_index=True)\n",
    "\n",
    "for i in range(10,36):\n",
    "    temp1 = pd.read_excel('../Datasets Original/C17/DDW-C17-'+str(i)+'00.XLSX',sheet_name = 'Sheet1', header = 4 , usecols = [0,1,3,4] )\n",
    "    temp1.rename(columns = {i : str(i) for i in [1,2,4,5]},inplace=True)\n",
    "    temp1.dropna(axis='rows',inplace=True)\n",
    "    \n",
    "    temp2 = pd.read_excel('../Datasets Original/C17/DDW-C17-'+str(i)+'00.XLSX',sheet_name = 'Sheet1', header = 4 , usecols = [0,1,8,9] )\n",
    "    temp2.rename(columns = {i : str(i) for i in [1,2]},inplace=True)\n",
    "    temp2.rename(columns = {i : str(int(i)-5) for i in ['9','10',9,10]},inplace=True)\n",
    "   \n",
    "    temp2.dropna(axis='rows',inplace=True)\n",
    "    \n",
    "    temp3 = pd.read_excel('../Datasets Original/C17/DDW-C17-'+str(i)+'00.XLSX',sheet_name = 'Sheet1', header = 4 , usecols = [0,1,13,14] )\n",
    "    temp3.rename(columns = {i : str(i) for i in [1,2]},inplace=True)\n",
    "    temp3.rename(columns = {i : str(int(i)-10) for i in [14,15,'14','15']},inplace=True)\n",
    "    \n",
    "    temp3.dropna(axis='rows',inplace=True)\n",
    "    \n",
    "    df = pd.concat([df,temp1,temp2,temp3],ignore_index=True)\n",
    "df.rename(columns = cols,inplace=True)\n"
   ]
  },
  {
   "cell_type": "code",
   "execution_count": 3,
   "id": "9e0b06ff",
   "metadata": {},
   "outputs": [],
   "source": [
    "df.to_csv('../Dataset/Language Total Speakers Statewise.csv',index=False)"
   ]
  }
 ],
 "metadata": {
  "kernelspec": {
   "display_name": "Python 3",
   "language": "python",
   "name": "python3"
  },
  "language_info": {
   "codemirror_mode": {
    "name": "ipython",
    "version": 3
   },
   "file_extension": ".py",
   "mimetype": "text/x-python",
   "name": "python",
   "nbconvert_exporter": "python",
   "pygments_lexer": "ipython3",
   "version": "3.8.8"
  }
 },
 "nbformat": 4,
 "nbformat_minor": 5
}
