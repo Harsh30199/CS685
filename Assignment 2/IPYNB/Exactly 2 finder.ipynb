{
 "cells": [
  {
   "cell_type": "code",
   "execution_count": 1,
   "id": "b9fd7e3c",
   "metadata": {},
   "outputs": [],
   "source": [
    "import pandas as pd\n",
    "import numpy as np"
   ]
  },
  {
   "cell_type": "code",
   "execution_count": 5,
   "id": "b86d15bd",
   "metadata": {},
   "outputs": [],
   "source": [
    "df = pd.read_csv('../Dataset/Bi and Tri Age.csv')\n",
    "\n",
    "df['Two Total'] = df['Two Total'] - df['Three Total']\n",
    "df['Two Male'] = df['Two Male'] - df['Three Male']\n",
    "df['Two Female'] = df['Two Female'] - df['Three Female']\n",
    "\n",
    "df.to_csv('../Dataset/Bi and Tri Age2.csv',index=False)"
   ]
  },
  {
   "cell_type": "code",
   "execution_count": 6,
   "id": "15f63d11",
   "metadata": {},
   "outputs": [],
   "source": [
    "df = pd.read_csv('../Dataset/Bi and Tri Literacy.csv')\n",
    "\n",
    "df['Two Total'] = df['Two Total'] - df['Three Total']\n",
    "df['Two Male'] = df['Two Male'] - df['Three Male']\n",
    "df['Two Female'] = df['Two Female'] - df['Three Female']\n",
    "\n",
    "df.to_csv('../Dataset/Bi and Tri literacy2.csv',index=False)"
   ]
  },
  {
   "cell_type": "code",
   "execution_count": null,
   "id": "72500c9e",
   "metadata": {},
   "outputs": [],
   "source": []
  }
 ],
 "metadata": {
  "kernelspec": {
   "display_name": "Python 3",
   "language": "python",
   "name": "python3"
  },
  "language_info": {
   "codemirror_mode": {
    "name": "ipython",
    "version": 3
   },
   "file_extension": ".py",
   "mimetype": "text/x-python",
   "name": "python",
   "nbconvert_exporter": "python",
   "pygments_lexer": "ipython3",
   "version": "3.8.8"
  }
 },
 "nbformat": 4,
 "nbformat_minor": 5
}
