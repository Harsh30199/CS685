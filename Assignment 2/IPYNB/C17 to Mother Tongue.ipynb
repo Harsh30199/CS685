{
 "cells": [
  {
   "cell_type": "code",
   "execution_count": 1,
   "id": "3a9b16c4",
   "metadata": {},
   "outputs": [],
   "source": [
    "import pandas as pd\n",
    "import numpy as np"
   ]
  },
  {
   "cell_type": "code",
   "execution_count": 8,
   "id": "e5f043db",
   "metadata": {},
   "outputs": [],
   "source": [
    "df = pd.DataFrame()\n",
    "cols = {'1':'State Code','2':'State Name','4':'Language','5':'Total'}\n",
    "for i in range(0,10):\n",
    "    temp = pd.read_excel('../Datasets Original/C17/DDW-C17-0'+str(i)+'00.XLSX',sheet_name = 'Sheet1', header = 4 , usecols = [0,1,3,4] )\n",
    "    temp.rename(columns = {i : str(i) for i in [1,2,4,5]},inplace=True)\n",
    "    temp.dropna(axis='rows',inplace=True)\n",
    "    df = pd.concat([df,temp],ignore_index=True)\n",
    "\n",
    "for i in range(10,36):\n",
    "    temp = pd.read_excel('../Datasets Original/C17/DDW-C17-'+str(i)+'00.XLSX',sheet_name = 'Sheet1', header = 4 , usecols = [0,1,3,4] )\n",
    "    temp.rename(columns = {i : str(i) for i in [1,2,4,5]},inplace=True)\n",
    "    temp.dropna(axis='rows',inplace=True)\n",
    "    df = pd.concat([df,temp],ignore_index=True)\n",
    "\n",
    "df.rename(columns = cols,inplace=True)\n"
   ]
  },
  {
   "cell_type": "code",
   "execution_count": 10,
   "id": "37bb041b",
   "metadata": {},
   "outputs": [],
   "source": [
    "df.to_csv('../Dataset/Mother Tongue Statewise.csv',index=False)"
   ]
  }
 ],
 "metadata": {
  "kernelspec": {
   "display_name": "Python 3",
   "language": "python",
   "name": "python3"
  },
  "language_info": {
   "codemirror_mode": {
    "name": "ipython",
    "version": 3
   },
   "file_extension": ".py",
   "mimetype": "text/x-python",
   "name": "python",
   "nbconvert_exporter": "python",
   "pygments_lexer": "ipython3",
   "version": "3.8.8"
  }
 },
 "nbformat": 4,
 "nbformat_minor": 5
}
