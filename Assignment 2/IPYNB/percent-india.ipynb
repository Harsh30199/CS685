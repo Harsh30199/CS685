{
 "cells": [
  {
   "cell_type": "code",
   "execution_count": 1,
   "id": "6382cf85",
   "metadata": {},
   "outputs": [],
   "source": [
    "import pandas as pd\n",
    "import numpy as np"
   ]
  },
  {
   "cell_type": "code",
   "execution_count": 2,
   "id": "f52216b6",
   "metadata": {},
   "outputs": [],
   "source": [
    "df = pd.read_csv('../Dataset/Census2.csv')\n",
    "\n",
    "df1 = pd.read_csv('../Dataset/Mono Gender.csv')\n",
    "\n",
    "df2 = pd.read_csv('../Dataset/Bi and Tri Age2.csv')"
   ]
  },
  {
   "cell_type": "code",
   "execution_count": 3,
   "id": "e9726b9c",
   "metadata": {},
   "outputs": [],
   "source": [
    "data ={}\n",
    "df3 = pd.DataFrame()\n",
    "for i in df['State Code'] :\n",
    "    data['State Code'] = i \n",
    "    \n",
    "    data['percent-one'] = np.round((df1[df1['State Code']== i]['One Total'].iloc[0] / df[df['State Code'] == i]['TOT_P'].iloc[0])*100,4)\n",
    "    data['percent-two'] = np.round((df2[df2['State Code']== i]['Two Total'].iloc[0] / df[df['State Code'] == i]['TOT_P'].iloc[0])*100,4)\n",
    "    data['percent-three'] = np.round((df2[df2['State Code']== i]['Three Total'].iloc[0] / df[df['State Code'] == i]['TOT_P'].iloc[0])*100,4)\n",
    "\n",
    "    df3 = df3.append(data,ignore_index=True)\n",
    "\n",
    "df3 = df3[['State Code', 'percent-one' , 'percent-two' , 'percent-three']]\n",
    "df3.to_csv('../Output/percent-india.csv',index=False)"
   ]
  }
 ],
 "metadata": {
  "kernelspec": {
   "display_name": "Python 3",
   "language": "python",
   "name": "python3"
  },
  "language_info": {
   "codemirror_mode": {
    "name": "ipython",
    "version": 3
   },
   "file_extension": ".py",
   "mimetype": "text/x-python",
   "name": "python",
   "nbconvert_exporter": "python",
   "pygments_lexer": "ipython3",
   "version": "3.8.8"
  }
 },
 "nbformat": 4,
 "nbformat_minor": 5
}
